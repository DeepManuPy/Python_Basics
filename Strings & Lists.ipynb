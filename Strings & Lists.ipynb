{
 "cells": [
  {
   "cell_type": "markdown",
   "id": "a3044e5c",
   "metadata": {},
   "source": [
    "## Strings"
   ]
  },
  {
   "cell_type": "code",
   "execution_count": 1,
   "id": "da0cd7ee",
   "metadata": {},
   "outputs": [],
   "source": [
    "message = \"i feel the nEEd, the Need for speed\""
   ]
  },
  {
   "cell_type": "code",
   "execution_count": 2,
   "id": "54dced9e",
   "metadata": {},
   "outputs": [
    {
     "name": "stdout",
     "output_type": "stream",
     "text": [
      "I Feel The Need, The Need For Speed\n"
     ]
    }
   ],
   "source": [
    "print(message.title())"
   ]
  },
  {
   "cell_type": "code",
   "execution_count": 10,
   "id": "debd5b80",
   "metadata": {},
   "outputs": [
    {
     "name": "stdout",
     "output_type": "stream",
     "text": [
      "Manudeep Reddy\n"
     ]
    }
   ],
   "source": [
    "first_name = \" manudeep\"\n",
    "last_name = \"reddy \"\n",
    "\n",
    "full_name = f\"{first_name.title()} {last_name.title()}\"\n",
    "\n",
    "print(full_name.strip())"
   ]
  },
  {
   "cell_type": "code",
   "execution_count": 12,
   "id": "e8042e69",
   "metadata": {},
   "outputs": [
    {
     "name": "stdout",
     "output_type": "stream",
     "text": [
      "1080000.0\n"
     ]
    }
   ],
   "source": [
    "base_salary, hike = 1_000_000, 0.08\n",
    "new_salary = base_salary*(1+hike)\n",
    "print(new_salary)"
   ]
  },
  {
   "cell_type": "markdown",
   "id": "1105802e",
   "metadata": {},
   "source": [
    "## Lists"
   ]
  },
  {
   "cell_type": "code",
   "execution_count": 14,
   "id": "7e3a2632",
   "metadata": {},
   "outputs": [
    {
     "name": "stdout",
     "output_type": "stream",
     "text": [
      "LIQ\n"
     ]
    }
   ],
   "source": [
    "transaction_types = [\"COMM\",\"CALL\",\"ROC\",\"DIV\",\"GAIN\",\"INTEREST\",\"VALADJ\",\"LIQ\",1]\n",
    "print(transaction_types[-2])"
   ]
  },
  {
   "cell_type": "code",
   "execution_count": 15,
   "id": "ffd47c47",
   "metadata": {},
   "outputs": [
    {
     "name": "stdout",
     "output_type": "stream",
     "text": [
      "['COMMIT', 'CALL', 'ROC', 'DIV', 'GAIN', 'INTEREST', 'VALADJ', 'LIQ', 1]\n"
     ]
    }
   ],
   "source": [
    "transaction_types[0] = \"COMMIT\"\n",
    "print(transaction_types)"
   ]
  },
  {
   "cell_type": "code",
   "execution_count": 16,
   "id": "8e177ab3",
   "metadata": {},
   "outputs": [
    {
     "name": "stdout",
     "output_type": "stream",
     "text": [
      "['COMMIT', 'CALL', 'ROC', 'DIV', 'GAIN', 'INTEREST', 'VALADJ', 'LIQ', 1, 'COMM']\n"
     ]
    }
   ],
   "source": [
    "transaction_types.append(\"COMM\")\n",
    "print(transaction_types)"
   ]
  },
  {
   "cell_type": "code",
   "execution_count": 17,
   "id": "6f817c32",
   "metadata": {},
   "outputs": [
    {
     "name": "stdout",
     "output_type": "stream",
     "text": [
      "['COMMIT', 'CALL', 'ROC', 'TRANSFER', 'DIV', 'GAIN', 'INTEREST', 'VALADJ', 'LIQ', 1, 'COMM']\n"
     ]
    }
   ],
   "source": [
    "transaction_types.insert(3,\"TRANSFER\")\n",
    "print(transaction_types)"
   ]
  },
  {
   "cell_type": "code",
   "execution_count": 18,
   "id": "599f5274",
   "metadata": {},
   "outputs": [
    {
     "name": "stdout",
     "output_type": "stream",
     "text": [
      "The Latest Tran Type added to the List is: COMM\n",
      "['COMMIT', 'CALL', 'ROC', 'TRANSFER', 'DIV', 'GAIN', 'INTEREST', 'VALADJ', 'LIQ', 1]\n"
     ]
    }
   ],
   "source": [
    "print(f\"The Latest Tran Type added to the List is: {transaction_types.pop()}\")\n",
    "print(transaction_types)"
   ]
  },
  {
   "cell_type": "code",
   "execution_count": 19,
   "id": "4a0a9f5e",
   "metadata": {},
   "outputs": [
    {
     "name": "stdout",
     "output_type": "stream",
     "text": [
      "['COMMIT', 'CALL', 'ROC', 'TRANSFER', 'DIV', 'GAIN', 'INTEREST', 'VALADJ', 'LIQ']\n"
     ]
    }
   ],
   "source": [
    "del transaction_types[-1]\n",
    "print(transaction_types)"
   ]
  },
  {
   "cell_type": "code",
   "execution_count": 20,
   "id": "b71669c2",
   "metadata": {},
   "outputs": [
    {
     "name": "stdout",
     "output_type": "stream",
     "text": [
      "['COMMIT', 'CALL', 'ROC', 'DIV', 'GAIN', 'INTEREST', 'VALADJ', 'LIQ']\n"
     ]
    }
   ],
   "source": [
    "transaction_types.remove('TRANSFER')\n",
    "print(transaction_types)"
   ]
  },
  {
   "cell_type": "code",
   "execution_count": 21,
   "id": "97d77c0e",
   "metadata": {},
   "outputs": [
    {
     "name": "stdout",
     "output_type": "stream",
     "text": [
      "Sorted List: ['CALL', 'COMMIT', 'DIV', 'GAIN', 'INTEREST', 'LIQ', 'ROC', 'VALADJ']\n",
      "Original List: ['COMMIT', 'CALL', 'ROC', 'DIV', 'GAIN', 'INTEREST', 'VALADJ', 'LIQ']\n"
     ]
    }
   ],
   "source": [
    "print(f\"Sorted List: {sorted(transaction_types)}\")\n",
    "print(f\"Original List: {transaction_types}\")"
   ]
  },
  {
   "cell_type": "code",
   "execution_count": 26,
   "id": "ba0485eb",
   "metadata": {},
   "outputs": [
    {
     "name": "stdout",
     "output_type": "stream",
     "text": [
      "['CALL', 'COMMIT', 'DIV', 'GAIN', 'INTEREST', 'LIQ', 'ROC', 'VALADJ']\n",
      "['CALL', 'COMMIT', 'DIV', 'GAIN', 'INTEREST', 'LIQ', 'ROC', 'VALADJ']\n"
     ]
    }
   ],
   "source": [
    "# Permanently Sorting the List\n",
    "transaction_types.sort()\n",
    "print(transaction_types)\n",
    "\n",
    "# Sorting the List in Reverse Aplhabetical order\n",
    "transaction_types.reverse()\n",
    "transaction_types.sort()\n",
    "print(transaction_types)\n"
   ]
  },
  {
   "cell_type": "code",
   "execution_count": 27,
   "id": "3c7258ce",
   "metadata": {},
   "outputs": [
    {
     "name": "stdout",
     "output_type": "stream",
     "text": [
      "['VALADJ', 'ROC', 'LIQ', 'INTEREST', 'GAIN', 'DIV', 'COMMIT', 'CALL']\n"
     ]
    }
   ],
   "source": [
    "transaction_types.reverse()\n",
    "print(transaction_types)"
   ]
  },
  {
   "cell_type": "code",
   "execution_count": 28,
   "id": "1591c8b3",
   "metadata": {},
   "outputs": [
    {
     "name": "stdout",
     "output_type": "stream",
     "text": [
      "8\n"
     ]
    }
   ],
   "source": [
    "print(len(transaction_types))"
   ]
  },
  {
   "cell_type": "code",
   "execution_count": 35,
   "id": "517d0403",
   "metadata": {},
   "outputs": [
    {
     "name": "stdout",
     "output_type": "stream",
     "text": [
      "valadj\n",
      "\n",
      "roc\n",
      "\n",
      "liq\n",
      "\n",
      "interest\n",
      "\n",
      "gain\n",
      "\n",
      "div\n",
      "\n",
      "commit\n",
      "\n",
      "call\n",
      "\n"
     ]
    }
   ],
   "source": [
    "for txn_type in transaction_types:\n",
    "    print(f\"{txn_type.lower()}\\n\")"
   ]
  },
  {
   "cell_type": "code",
   "execution_count": 39,
   "id": "912cfac4",
   "metadata": {},
   "outputs": [
    {
     "name": "stdout",
     "output_type": "stream",
     "text": [
      "Odd numbers from 1 to 10 :\n",
      "1\n",
      "3\n",
      "5\n",
      "7\n",
      "9\n",
      "[1, 3, 5, 7, 9]\n"
     ]
    }
   ],
   "source": [
    "print(\"Odd numbers from 1 to 10 :\")\n",
    "odd_numbers = []\n",
    "for value in range(1,11,2):\n",
    "    odd_numbers.append(value)\n",
    "    print(value)\n",
    "print(odd_numbers)"
   ]
  },
  {
   "cell_type": "code",
   "execution_count": 41,
   "id": "f05da4f8",
   "metadata": {},
   "outputs": [
    {
     "name": "stdout",
     "output_type": "stream",
     "text": [
      "1\n",
      "9\n",
      "25\n"
     ]
    }
   ],
   "source": [
    "# Simple Stats on the odd_numbers List.\n",
    "print(min(odd_numbers))\n",
    "print(max(odd_numbers))\n",
    "print(sum(odd_numbers))"
   ]
  },
  {
   "cell_type": "code",
   "execution_count": 42,
   "id": "c220038b",
   "metadata": {},
   "outputs": [
    {
     "name": "stdout",
     "output_type": "stream",
     "text": [
      "[1, 9, 25, 49, 81]\n"
     ]
    }
   ],
   "source": [
    "# List Comprehensions\n",
    "odd_number_squares = [value**2 for value in odd_numbers]\n",
    "print(odd_number_squares)"
   ]
  },
  {
   "cell_type": "code",
   "execution_count": 2,
   "id": "122f37dc",
   "metadata": {},
   "outputs": [
    {
     "name": "stdout",
     "output_type": "stream",
     "text": [
      "[1, 8, 27, 64, 125, 216, 343, 512, 729, 1000]\n"
     ]
    }
   ],
   "source": [
    "first_ten_cubes = [value**3 for value in range(1,11)]\n",
    "print(first_ten_cubes)"
   ]
  },
  {
   "cell_type": "code",
   "execution_count": 7,
   "id": "5681598b",
   "metadata": {},
   "outputs": [
    {
     "name": "stdout",
     "output_type": "stream",
     "text": [
      "[1, 8, 27, 64, 125]\n",
      "[216, 343, 512, 729, 1000]\n"
     ]
    }
   ],
   "source": [
    "# Slicing Lists\n",
    "print(first_ten_cubes[0:5])\n",
    "print(first_ten_cubes[5:])"
   ]
  },
  {
   "cell_type": "code",
   "execution_count": 9,
   "id": "1281bf11",
   "metadata": {},
   "outputs": [
    {
     "name": "stdout",
     "output_type": "stream",
     "text": [
      "[216, 343, 512, 729, 1000]\n"
     ]
    }
   ],
   "source": [
    "copy_list = first_ten_cubes[5:]\n",
    "print(copy_list)"
   ]
  },
  {
   "cell_type": "code",
   "execution_count": 11,
   "id": "26a10cd0",
   "metadata": {},
   "outputs": [
    {
     "name": "stdout",
     "output_type": "stream",
     "text": [
      "Orginal List: [1, 8, 27, 64, 125, 216, 343, 512, 729, 1000, 1331, 1331]\n",
      "Copy of List: [1, 8, 27, 64, 125, 216, 343, 512, 729, 1000, 1331, 1331]\n",
      "\n",
      "Orginal List: [1, 8, 27, 64, 125, 216, 343, 512, 729, 1000, 1331, 1331]\n",
      "Copy of List: [1, 8, 27, 64, 125, 216, 343, 512, 729, 1000, 1331, 1331, 1728]\n"
     ]
    }
   ],
   "source": [
    "# Use slicing while copying a List. Simply assigning the list to a new variable doesn't create a copy, the variable\n",
    "# will be pointing to the original List.\n",
    "\n",
    "copy_list = first_ten_cubes # This assignment enables both the variables to point to the same List.\n",
    "copy_list.append(11**3)\n",
    "print(f\"Orginal List: {first_ten_cubes}\\nCopy of List: {copy_list}\")\n",
    "\n",
    "copy_list = first_ten_cubes[:] # This creates a new copy of the List.\n",
    "copy_list.append(12**3)\n",
    "print(f\"\\nOrginal List: {first_ten_cubes}\\nCopy of List: {copy_list}\")"
   ]
  },
  {
   "cell_type": "markdown",
   "id": "816f6d6c",
   "metadata": {},
   "source": [
    "## Tuple (Immutable List)"
   ]
  },
  {
   "cell_type": "code",
   "execution_count": 12,
   "id": "4fd52caa",
   "metadata": {},
   "outputs": [
    {
     "name": "stdout",
     "output_type": "stream",
     "text": [
      "The Dimensions of the Rectangle are 100, 99\n"
     ]
    }
   ],
   "source": [
    "dimensions = (100,99)\n",
    "print(f\"The Dimensions of the Rectangle are {dimensions[0]}, {dimensions[1]}\")"
   ]
  },
  {
   "cell_type": "code",
   "execution_count": 13,
   "id": "68edc1b1",
   "metadata": {},
   "outputs": [
    {
     "name": "stdout",
     "output_type": "stream",
     "text": [
      "45\n"
     ]
    }
   ],
   "source": [
    "dimensions = (45,)\n",
    "for dimension in dimensions:\n",
    "    print(dimension)"
   ]
  },
  {
   "cell_type": "code",
   "execution_count": null,
   "id": "5939aa60",
   "metadata": {},
   "outputs": [],
   "source": []
  }
 ],
 "metadata": {
  "kernelspec": {
   "display_name": "Python 3 (ipykernel)",
   "language": "python",
   "name": "python3"
  },
  "language_info": {
   "codemirror_mode": {
    "name": "ipython",
    "version": 3
   },
   "file_extension": ".py",
   "mimetype": "text/x-python",
   "name": "python",
   "nbconvert_exporter": "python",
   "pygments_lexer": "ipython3",
   "version": "3.8.9"
  }
 },
 "nbformat": 4,
 "nbformat_minor": 5
}
