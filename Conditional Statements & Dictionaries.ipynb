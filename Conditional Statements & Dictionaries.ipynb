{
 "cells": [
  {
   "cell_type": "code",
   "execution_count": 7,
   "id": "759bb3c3",
   "metadata": {},
   "outputs": [],
   "source": [
    "num_list = range(0,101)\n",
    "odd_num_list = []\n",
    "even_num_list = []"
   ]
  },
  {
   "cell_type": "code",
   "execution_count": 8,
   "id": "37325cd4",
   "metadata": {},
   "outputs": [],
   "source": [
    "for value in num_list:\n",
    "    if value%2 != 0:\n",
    "        odd_num_list.append(value)\n",
    "    else:\n",
    "        even_num_list.append(value)"
   ]
  },
  {
   "cell_type": "code",
   "execution_count": 10,
   "id": "336f3f6e",
   "metadata": {},
   "outputs": [
    {
     "name": "stdout",
     "output_type": "stream",
     "text": [
      "Odd Numbers from 0 to 100: [1, 3, 5, 7, 9, 11, 13, 15, 17, 19, 21, 23, 25, 27, 29, 31, 33, 35, 37, 39, 41, 43, 45, 47, 49, 51, 53, 55, 57, 59, 61, 63, 65, 67, 69, 71, 73, 75, 77, 79, 81, 83, 85, 87, 89, 91, 93, 95, 97, 99]\n",
      "Even Numbers from 0 to 100: [0, 2, 4, 6, 8, 10, 12, 14, 16, 18, 20, 22, 24, 26, 28, 30, 32, 34, 36, 38, 40, 42, 44, 46, 48, 50, 52, 54, 56, 58, 60, 62, 64, 66, 68, 70, 72, 74, 76, 78, 80, 82, 84, 86, 88, 90, 92, 94, 96, 98, 100]\n"
     ]
    }
   ],
   "source": [
    "if odd_num_list and even_num_list:\n",
    "    print(f\"Odd Numbers from 0 to 100: {odd_num_list}\\nEven Numbers from 0 to 100: {even_num_list}\")"
   ]
  },
  {
   "cell_type": "code",
   "execution_count": null,
   "id": "1818de84",
   "metadata": {},
   "outputs": [],
   "source": []
  }
 ],
 "metadata": {
  "kernelspec": {
   "display_name": "Python 3 (ipykernel)",
   "language": "python",
   "name": "python3"
  },
  "language_info": {
   "codemirror_mode": {
    "name": "ipython",
    "version": 3
   },
   "file_extension": ".py",
   "mimetype": "text/x-python",
   "name": "python",
   "nbconvert_exporter": "python",
   "pygments_lexer": "ipython3",
   "version": "3.8.9"
  }
 },
 "nbformat": 4,
 "nbformat_minor": 5
}
